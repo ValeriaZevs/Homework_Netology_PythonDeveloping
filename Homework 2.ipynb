{
 "cells": [
  {
   "cell_type": "code",
   "execution_count": 6,
   "id": "c7b06dd1-5d4f-469c-812c-1f35dcfca11b",
   "metadata": {},
   "outputs": [
    {
     "name": "stdin",
     "output_type": "stream",
     "text": [
      " &apos;testing&apos;\n"
     ]
    },
    {
     "name": "stdout",
     "output_type": "stream",
     "text": [
      "t\n"
     ]
    }
   ],
   "source": [
    "#Задание 1\n",
    "word = input()\n",
    "n = len(word)\n",
    "mid = n // 2\n",
    "print(word[mid-1:mid+1] if n % 2 == 0 else word[mid])"
   ]
  },
  {
   "cell_type": "code",
   "execution_count": 10,
   "id": "8ffaa9b5-ac66-4f13-86cc-64305b612b04",
   "metadata": {},
   "outputs": [
    {
     "name": "stdout",
     "output_type": "stream",
     "text": [
      "Идеальные пары:\n",
      "Alex и Emma\n",
      "Arthur и Kate\n",
      "John и Kira\n",
      "Peter и Liza\n",
      "Richard и Trisha\n"
     ]
    }
   ],
   "source": [
    "#Задание 2\n",
    "#boys = ['Peter', 'Alex', 'John', 'Arthur', 'Richard', 'Michael'] #для проверки другого случая\n",
    "boys = ['Peter', 'Alex', 'John', 'Arthur', 'Richard']\n",
    "girls = ['Kate', 'Liza', 'Kira', 'Emma', 'Trisha']\n",
    "\n",
    "b = sorted(boys, key=str.lower)\n",
    "g = sorted(girls, key=str.lower)\n",
    "\n",
    "if len(b) != len(g):\n",
    "    print('Внимание, кто-то может остаться без пары.')\n",
    "else:\n",
    "    print('Идеальные пары:')\n",
    "    for i in range(len(b)):\n",
    "        print(b[i], 'и', g[i])"
   ]
  },
  {
   "cell_type": "code",
   "execution_count": null,
   "id": "a43f7ab6-c3a7-4433-8cce-c00a865e2044",
   "metadata": {},
   "outputs": [],
   "source": []
  }
 ],
 "metadata": {
  "kernelspec": {
   "display_name": "Python 3 (ipykernel)",
   "language": "python",
   "name": "python3"
  },
  "language_info": {
   "codemirror_mode": {
    "name": "ipython",
    "version": 3
   },
   "file_extension": ".py",
   "mimetype": "text/x-python",
   "name": "python",
   "nbconvert_exporter": "python",
   "pygments_lexer": "ipython3",
   "version": "3.13.0"
  }
 },
 "nbformat": 4,
 "nbformat_minor": 5
}
