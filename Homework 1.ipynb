{
 "cells": [
  {
   "cell_type": "code",
   "execution_count": 19,
   "id": "e3723f61-e25e-43a3-9db9-9a28e5b2ba8a",
   "metadata": {},
   "outputs": [
    {
     "name": "stdin",
     "output_type": "stream",
     "text": [
      " 111\n"
     ]
    },
    {
     "name": "stdout",
     "output_type": "stream",
     "text": [
      "В году не 4 цифры - ошибка\n"
     ]
    }
   ],
   "source": [
    "year = int(input()) #ЗАДАНИЕ 1\n",
    "if 1000 <= year <= 9999:\n",
    "    if (year % 4 == 0 and year % 100 != 0) or (year % 400 == 0):\n",
    "        print('Високосный год')\n",
    "    else:\n",
    "        print('Обычный год')\n",
    "else:\n",
    "    print('В году не 4 цифры - ошибка')"
   ]
  },
  {
   "cell_type": "code",
   "execution_count": 22,
   "id": "912552dc-9aab-4671-8dca-2a5b0b984b1f",
   "metadata": {},
   "outputs": [
    {
     "name": "stdin",
     "output_type": "stream",
     "text": [
      " 1234\n"
     ]
    },
    {
     "name": "stdout",
     "output_type": "stream",
     "text": [
      "Длина номера билета не 6 цифр - ошибка\n"
     ]
    }
   ],
   "source": [
    "ticket = input()\n",
    "\n",
    "if len(ticket) == 6:\n",
    "    digits = [int(i) for i in ticket]\n",
    "    if sum(digits[:3]) == sum(digits[3:]):\n",
    "        print('Счастливый билет')\n",
    "    else:\n",
    "        print('Несчастливый билет')\n",
    "else:\n",
    "    print(\"Длина номера билета не 6 цифр - ошибка\")"
   ]
  },
  {
   "cell_type": "code",
   "execution_count": null,
   "id": "0a52049f-7ac4-4e7b-96e6-2048aef90048",
   "metadata": {},
   "outputs": [],
   "source": []
  }
 ],
 "metadata": {
  "kernelspec": {
   "display_name": "Python 3 (ipykernel)",
   "language": "python",
   "name": "python3"
  },
  "language_info": {
   "codemirror_mode": {
    "name": "ipython",
    "version": 3
   },
   "file_extension": ".py",
   "mimetype": "text/x-python",
   "name": "python",
   "nbconvert_exporter": "python",
   "pygments_lexer": "ipython3",
   "version": "3.13.0"
  }
 },
 "nbformat": 4,
 "nbformat_minor": 5
}
